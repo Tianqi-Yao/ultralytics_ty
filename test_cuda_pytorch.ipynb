{
 "cells": [
  {
   "cell_type": "code",
   "id": "888c6c7b-2545-4326-a40e-c528f5674179",
   "metadata": {
    "trusted": false,
    "ExecuteTime": {
     "end_time": "2025-08-13T20:04:14.178336Z",
     "start_time": "2025-08-13T20:04:14.171387Z"
    }
   },
   "source": "import torch\nprint(\"✅ CUDA available:\", torch.cuda.is_available())\nif torch.cuda.is_available():\n    print(\"🎯 CUDA device count:\", torch.cuda.device_count())\n    print(\"🎯 Device name:\", torch.cuda.get_device_name(0))\n    print(\"🎯 Current device index:\", torch.cuda.current_device())\n    print(\"🎯 PyTorch compiled CUDA version:\", torch.version.cuda)\nx = torch.rand(5, 3)\nprint(x)\n",
   "outputs": [
    {
     "name": "stdout",
     "output_type": "stream",
     "text": [
      "✅ CUDA available: True\n",
      "🎯 CUDA device count: 1\n",
      "🎯 Device name: NVIDIA GeForce RTX 5080\n",
      "🎯 Current device index: 0\n",
      "🎯 PyTorch compiled CUDA version: 12.8\n",
      "tensor([[0.6321, 0.3698, 0.6450],\n",
      "        [0.3841, 0.4816, 0.8017],\n",
      "        [0.2875, 0.1810, 0.2084],\n",
      "        [0.4098, 0.8472, 0.3977],\n",
      "        [0.8380, 0.5991, 0.5110]])\n"
     ]
    }
   ],
   "execution_count": 5
  },
  {
   "metadata": {
    "trusted": false,
    "ExecuteTime": {
     "end_time": "2025-08-13T20:04:14.232236Z",
     "start_time": "2025-08-13T20:04:14.226158Z"
    }
   },
   "cell_type": "code",
   "source": "import torch, subprocess, json\nprint(\"torch:\", torch.__version__, \"cuda:\", torch.version.cuda)\nprint(\"is_available:\", torch.cuda.is_available())\nif torch.cuda.is_available():\n    i=0\n    print(\"device:\", i, torch.cuda.get_device_name(i))",
   "id": "dc35b5e1f4fea71d",
   "outputs": [
    {
     "name": "stdout",
     "output_type": "stream",
     "text": [
      "torch: 2.8.0+cu128 cuda: 12.8\n",
      "is_available: True\n",
      "device: 0 NVIDIA GeForce RTX 5080\n"
     ]
    }
   ],
   "execution_count": 6
  }
 ],
 "metadata": {
  "kernelspec": {
   "display_name": "Python 3 (ipykernel)",
   "language": "python",
   "name": "python3"
  },
  "language_info": {
   "codemirror_mode": {
    "name": "ipython",
    "version": 3
   },
   "file_extension": ".py",
   "mimetype": "text/x-python",
   "name": "python",
   "nbconvert_exporter": "python",
   "pygments_lexer": "ipython3",
   "version": "3.11.13"
  }
 },
 "nbformat": 4,
 "nbformat_minor": 5
}
